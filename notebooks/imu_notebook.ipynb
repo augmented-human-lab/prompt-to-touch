{
 "cells": [
  {
   "cell_type": "code",
   "execution_count": 42,
   "id": "f36da148-eef3-4eb5-97b3-bc36164cfac9",
   "metadata": {},
   "outputs": [],
   "source": [
    "import numpy as np\n",
    "import os\n",
    "import pyloudnorm as pyln\n",
    "from openai import OpenAI\n",
    "import librosa\n",
    "import soundfile as SF\n",
    "\n",
    "import pyloudnorm as pyln\n",
    "\n",
    "import pyfar as pf\n",
    "import pandas as pd\n",
    "\n",
    "\n",
    "import sys, random  \n",
    "sys.path.insert(0, '../')\n",
    "import utils\n",
    "from utils.audio_generation import sample, get_model\n",
    "from utils.audio_processing import compress_spectrogram_simple, compress_spectrogram_with_centroid, equalize_audio, butter_bandpass_filter, pitch_shift_centroid, equalize_audio\n",
    "\n",
    "from IPython.display import Audio, display\n",
    "from ipywidgets import widgets\n",
    "\n",
    "%matplotlib inline\n",
    "import matplotlib.pyplot as plt"
   ]
  },
  {
   "cell_type": "code",
   "execution_count": 14,
   "id": "c34ed346-6d84-46a2-9677-befc3622aee3",
   "metadata": {},
   "outputs": [
    {
     "name": "stdout",
     "output_type": "stream",
     "text": [
      "The autoreload extension is already loaded. To reload it, use:\n",
      "  %reload_ext autoreload\n"
     ]
    }
   ],
   "source": [
    "%load_ext autoreload\n",
    "%autoreload 2\n",
    "%reload_ext autoreload"
   ]
  },
  {
   "cell_type": "code",
   "execution_count": 15,
   "id": "b52efb34-d031-4dd5-a656-c5faeb8ea4c5",
   "metadata": {},
   "outputs": [],
   "source": [
    "import warnings\n",
    "\n",
    "def fxn():\n",
    "    warnings.warn(\"deprecated\", DeprecationWarning)\n",
    "\n",
    "with warnings.catch_warnings():\n",
    "    warnings.simplefilter(\"ignore\")\n",
    "    fxn()"
   ]
  },
  {
   "cell_type": "code",
   "execution_count": 16,
   "id": "cbeb7407-39a2-4640-ab89-ebd37534284e",
   "metadata": {},
   "outputs": [],
   "source": [
    "#Audio params\n",
    "loudness_dbfs = -14.0\n",
    "sample_rate = 16000\n",
    "stft_channels = 1024\n",
    "hop_length = 128\n",
    "\n",
    "# Diffusion params\n",
    "guidance_scale = 3\n",
    "n_candidates = 1\n",
    "batch_size = 1\n",
    "ddim_steps = 100"
   ]
  },
  {
   "cell_type": "code",
   "execution_count": 20,
   "id": "af7360e8-930b-46e0-9533-dec02b6dc491",
   "metadata": {},
   "outputs": [],
   "source": [
    "loudness_meter = pyln.Meter(sample_rate)"
   ]
  },
  {
   "cell_type": "code",
   "execution_count": 41,
   "id": "0d7b76c1-3c87-4045-8b07-e0bfa872f6e5",
   "metadata": {},
   "outputs": [],
   "source": [
    "os.makedirs('samples/imu_tones_equalized', exist_ok=True)\n",
    "for i in range(10,1000,1):\n",
    "    audio = librosa.tone(i,sr=sample_rate, duration=2)\n",
    "    audio = equalize_audio(audio, sample_rate, loudness_meter=None, loudness=-25)\n",
    "    \n",
    "    sf.write('samples/imu_tones_equalized/'+str(i)+'.wav', audio, samplerate=sample_rate)\n",
    "# utils.plot_single(audio, '100')"
   ]
  },
  {
   "cell_type": "code",
   "execution_count": 44,
   "id": "664e2e78-7b00-4994-bc1e-d38e3c92d76a",
   "metadata": {},
   "outputs": [],
   "source": [
    "def renormalize(n, range1, range2):\n",
    "    delta1 = range1[1] - range1[0]\n",
    "    delta2 = range2[1] - range2[0]\n",
    "    return (delta2 * (n - range1[0]) / delta1) + range2[0]"
   ]
  },
  {
   "cell_type": "code",
   "execution_count": 56,
   "id": "37a462a4-6437-4f73-8ffc-6a2df12e1227",
   "metadata": {},
   "outputs": [],
   "source": [
    "df = pd.read_csv('freq-response-DRAKE-MF-BLACK-raw-1721643327.220492.csv')\n",
    "new_vals = []\n",
    "for i in df['accVal']:\n",
    "    new_vals.append(-1*renormalize(i, (np.min(df['accVal']),np.max(df['accVal'])), (0,0.5)))"
   ]
  },
  {
   "cell_type": "code",
   "execution_count": 57,
   "id": "3468a976-d352-4424-b374-ec9d8fb617e1",
   "metadata": {},
   "outputs": [],
   "source": [
    "os.makedirs('samples/imu_tones_equalized_MF_0.5_filterstep10', exist_ok=True)\n",
    "for i in range(10,500,1):\n",
    "    audio = librosa.tone(i,sr=sample_rate, duration=2)\n",
    "    y = pf.classes.audio.Signal(audio, sampling_rate=sample_rate)\n",
    "    for ind, freq_c in enumerate(df['freq']):\n",
    "        if ind%10 == 0:\n",
    "            y = pf.dsp.filter.bell(signal=y, center_frequency=freq_c, gain=new_vals[ind], quality=4)\n",
    "\n",
    "    \n",
    "    sf.write('samples/imu_tones_equalized_MF_0.5_filterstep10/'+str(i)+'.wav', y._data[0], samplerate=sample_rate)\n",
    "# utils.plot_single(audio, '100')\n",
    "\n",
    "\n"
   ]
  },
  {
   "cell_type": "code",
   "execution_count": 59,
   "id": "6535efa5-5fa6-4658-b2ad-76a245ede369",
   "metadata": {},
   "outputs": [],
   "source": [
    "# for ind, freq_c in enumerate(df['freq']):\n",
    "#     print(freq_c)"
   ]
  },
  {
   "cell_type": "code",
   "execution_count": null,
   "id": "29731464-1b67-4821-864b-d551f13916dc",
   "metadata": {},
   "outputs": [],
   "source": []
  }
 ],
 "metadata": {
  "kernelspec": {
   "display_name": "purnima-audioldm2",
   "language": "python",
   "name": "purnima-audioldm2"
  },
  "language_info": {
   "codemirror_mode": {
    "name": "ipython",
    "version": 3
   },
   "file_extension": ".py",
   "mimetype": "text/x-python",
   "name": "python",
   "nbconvert_exporter": "python",
   "pygments_lexer": "ipython3",
   "version": "3.9.18"
  }
 },
 "nbformat": 4,
 "nbformat_minor": 5
}
